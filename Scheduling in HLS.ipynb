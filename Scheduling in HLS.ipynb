{
 "cells": [
  {
   "cell_type": "code",
   "execution_count": 14,
   "id": "18e848b8",
   "metadata": {},
   "outputs": [],
   "source": [
    "import csv\n",
    "import copy"
   ]
  },
  {
   "cell_type": "code",
   "execution_count": 15,
   "id": "a871dcdb",
   "metadata": {},
   "outputs": [],
   "source": [
    "DCT_8pt_lib = csv.reader(open(\"DCT_8pt_lib.txt\", 'r'))\n",
    "DCT_8pt = \"DCT_8pt.txt\"\n",
    "file1 = DCT_8pt_lib\n",
    "file_ = DCT_8pt"
   ]
  },
  {
   "cell_type": "code",
   "execution_count": 16,
   "id": "1f288a02",
   "metadata": {},
   "outputs": [],
   "source": [
    "file = []\n",
    "for i in file1:\n",
    "    file.append(i)"
   ]
  },
  {
   "cell_type": "code",
   "execution_count": 17,
   "id": "5b38d9ad",
   "metadata": {},
   "outputs": [],
   "source": [
    "def application(file):\n",
    "    minadder, minmulti = 1,1                                                         #r1min r2min  \n",
    "    maxadder, maxmulti = 0,0                                                         #initialized with 0\n",
    "    arAdder,arMulti, arRegister, delayAdder, delayMulti = 0,0,0,0,0                  #initialized with 0\n",
    "    for i in file:\n",
    "        if len(i)!=0:\n",
    "            if i[0] == 'adder(16)' and maxadder<int(i[-1]):\n",
    "                maxadder = int(i[-1])\n",
    "                arAdder = eval(i[2][:-2])\n",
    "                delayAdder = eval(i[3][:-2])\n",
    "            elif i[0] == 'multiplier(16)' and maxmulti<int(i[-1]):\n",
    "                maxmulti = int(i[-1])\n",
    "                arMulti = eval(i[2][:-2])\n",
    "                delayMulti = eval(i[3][:-2])\n",
    "            elif i[0].find(\"register\") != -1:\n",
    "                arRegister = eval(i[0].split()[1][:-2])\n",
    "    #print(arAdder,arMulti, arRegister, delayAdder, delayMulti)\n",
    "    return (minadder, minmulti, maxadder, maxmulti, arAdder,arMulti, arRegister, delayAdder, delayMulti)"
   ]
  },
  {
   "cell_type": "code",
   "execution_count": 18,
   "id": "1b1f5d51",
   "metadata": {},
   "outputs": [],
   "source": [
    "minadder, minmulti, maxadder, maxmulti, arAdder,arMulti, arRegister, delayAdder, delayMulti = application(file)"
   ]
  },
  {
   "cell_type": "code",
   "execution_count": 19,
   "id": "7e4c5c18",
   "metadata": {},
   "outputs": [],
   "source": [
    "class Node:\n",
    "    def __init__(self, s):\n",
    "        self.operator = s[0]\n",
    "        self.operand_1 = int(s[1])\n",
    "        self.operand_2 = int(s[2])\n",
    "        self.id = int(s[3])\n",
    "        self.control_step = None"
   ]
  },
  {
   "cell_type": "code",
   "execution_count": 20,
   "id": "c9f7b819",
   "metadata": {},
   "outputs": [],
   "source": [
    "def read_file(s):\n",
    "    file = open(s)\n",
    "    fir = file.read()\n",
    "    file.close()\n",
    "    fir_dfg = \"\"\n",
    "    for i in fir:\n",
    "        if i != '\\n':\n",
    "            fir_dfg += i\n",
    "    fir_dfg = fir_dfg.split(\",\")\n",
    "    return fir_dfg"
   ]
  },
  {
   "cell_type": "code",
   "execution_count": 21,
   "id": "030ed9f1",
   "metadata": {},
   "outputs": [],
   "source": [
    "def resource_constraint(sign, resources):\n",
    "    list_of_nodes = []\n",
    "    for i in range(int(len(sign)/4)):\n",
    "        list_of_nodes.append(Node(sign[i*4:i*4+4]))\n",
    "    operators = {}\n",
    "    for i in list_of_nodes:\n",
    "        operators[i.operator] = None\n",
    "    for i in operators:\n",
    "        if i == '+':\n",
    "            operators[i] = resources[0]\n",
    "        if i == '*':\n",
    "            operators[i] = resources[1]\n",
    "    return operators, list_of_nodes"
   ]
  },
  {
   "cell_type": "code",
   "execution_count": 22,
   "id": "ef5d99f3",
   "metadata": {},
   "outputs": [],
   "source": [
    "def scheduling(operators, list_of_nodes):\n",
    "    c_oper = {}\n",
    "    t_op = {}\n",
    "    count = len(list_of_nodes)\n",
    "    list_of = copy.deepcopy(list_of_nodes)\n",
    "    for i in range(count):\n",
    "        t_oper = {}\n",
    "        for j in operators:\n",
    "            t_oper[j] = operators[j]\n",
    "        t_op[i] = t_oper\n",
    "    for i in operators:\n",
    "        c_oper[i] = 1\n",
    "    \n",
    "    t_oper = {}\n",
    "    for i in operators:\n",
    "        t_oper[i] = operators[i]\n",
    "\n",
    "    for node in list_of_nodes:\n",
    "        if node.operand_1 == 0 and node.operand_2 == 0:\n",
    "            if t_oper[node.operator] == 0:\n",
    "                c_oper[node.operator] += 1\n",
    "                t_oper[node.operator] = operators[node.operator]\n",
    "            node.control_step = c_oper[node.operator]\n",
    "            t_oper[node.operator] -= 1\n",
    "            t_op[node.control_step-1][node.operator] -= 1\n",
    "            count -= 1\n",
    "    \n",
    "    while count != 0:\n",
    "        for node in list_of_nodes:\n",
    "            if node.control_step == None:\n",
    "                if node.operand_1 == 0 and node.operand_2 != 0:\n",
    "                    if list_of_nodes[node.operand_2 - 1].control_step != None:\n",
    "                        max_c = max(0, list_of_nodes[node.operand_2 - 1].control_step)\n",
    "                        while((t_op[max_c][node.operator]) == 0) :\n",
    "                            max_c += 1\n",
    "                        if (((1 + max_c) > c_oper[node.operator]) or (t_op[max_c][node.operator]) != 0):\n",
    "                                c_oper[node.operator] = 1 + max_c\n",
    "                                t_oper[node.operator] = t_op[max_c][node.operator]\n",
    "                                node.control_step = c_oper[node.operator]\n",
    "                        node.control_step = c_oper[node.operator]\n",
    "                        t_oper[node.operator] -= 1\n",
    "                        t_op[node.control_step-1][node.operator] -= 1\n",
    "                        count -= 1\n",
    "                        \n",
    "                elif node.operand_1 != 0 and node.operand_2 == 0:\n",
    "                    if list_of_nodes[node.operand_1 - 1].control_step != None:\n",
    "                        max_c = max(0, list_of_nodes[node.operand_1 - 1].control_step)\n",
    "                        while((t_op[max_c][node.operator]) == 0) :\n",
    "                            max_c += 1\n",
    "                        if (((1 + max_c) > c_oper[node.operator]) or (t_op[max_c][node.operator]) != 0):\n",
    "                                c_oper[node.operator] = 1 + max_c\n",
    "                                t_oper[node.operator] = t_op[max_c][node.operator]\n",
    "                                node.control_step = c_oper[node.operator]\n",
    "                        node.control_step = c_oper[node.operator]\n",
    "                        t_oper[node.operator] -= 1\n",
    "                        t_op[node.control_step-1][node.operator] -= 1\n",
    "                        count -= 1\n",
    "                       \n",
    "                else:\n",
    "                    if list_of_nodes[node.operand_1 - 1].control_step != None and list_of_nodes[node.operand_2 - 1].control_step != None:\n",
    "                        max_c = max(list_of_nodes[node.operand_1 - 1].control_step, list_of_nodes[node.operand_2 - 1].control_step)\n",
    "                        while((t_op[max_c][node.operator]) == 0) :\n",
    "                            max_c += 1\n",
    "                        if (((1 + max_c) > c_oper[node.operator]) or (t_op[max_c][node.operator]) != 0):\n",
    "                                c_oper[node.operator] = 1 + max_c\n",
    "                                t_oper[node.operator] = t_op[max_c][node.operator]\n",
    "                                node.control_step = c_oper[node.operator]\n",
    "                        node.control_step = c_oper[node.operator]\n",
    "                        t_oper[node.operator] -= 1\n",
    "                        t_op[node.control_step-1][node.operator] -= 1\n",
    "                        count -= 1\n",
    "                       \n",
    "    max_con = 0\n",
    "    for i in list_of_nodes:\n",
    "        if i.control_step > max_con:\n",
    "            max_con = i.control_step\n",
    "    return list_of, list_of_nodes, max_con"
   ]
  },
  {
   "cell_type": "code",
   "execution_count": 23,
   "id": "bf4f47c5",
   "metadata": {},
   "outputs": [],
   "source": [
    "s_i = read_file(file_)\n",
    "operators, list_of_nodes = resource_constraint(s_i, [3,3])\n",
    "list_of, list_of_nodes, max_con = scheduling(operators, list_of_nodes)"
   ]
  },
  {
   "cell_type": "code",
   "execution_count": 24,
   "id": "b2af39d6",
   "metadata": {},
   "outputs": [
    {
     "name": "stdout",
     "output_type": "stream",
     "text": [
      "Operator, Id:  1 * Control step:  1\n",
      "Operator, Id:  2 * Control step:  1\n",
      "Operator, Id:  3 * Control step:  1\n",
      "Operator, Id:  4 * Control step:  2\n",
      "Operator, Id:  5 * Control step:  2\n",
      "Operator, Id:  6 * Control step:  2\n",
      "Operator, Id:  7 * Control step:  3\n",
      "Operator, Id:  8 * Control step:  3\n",
      "Operator, Id:  9 + Control step:  2\n",
      "Operator, Id:  10 + Control step:  3\n",
      "Operator, Id:  11 + Control step:  4\n",
      "Operator, Id:  12 + Control step:  5\n",
      "Operator, Id:  13 + Control step:  6\n",
      "Operator, Id:  14 + Control step:  7\n",
      "Operator, Id:  15 + Control step:  8\n"
     ]
    }
   ],
   "source": [
    "for i in list_of_nodes:\n",
    "    print(\"Operator, Id: \",i.id,i.operator, \"Control step: \",i.control_step)"
   ]
  },
  {
   "cell_type": "code",
   "execution_count": null,
   "id": "0aef80d5",
   "metadata": {},
   "outputs": [],
   "source": []
  },
  {
   "cell_type": "code",
   "execution_count": null,
   "id": "9ae15dd8",
   "metadata": {},
   "outputs": [],
   "source": []
  }
 ],
 "metadata": {
  "kernelspec": {
   "display_name": "Python 3 (ipykernel)",
   "language": "python",
   "name": "python3"
  },
  "language_info": {
   "codemirror_mode": {
    "name": "ipython",
    "version": 3
   },
   "file_extension": ".py",
   "mimetype": "text/x-python",
   "name": "python",
   "nbconvert_exporter": "python",
   "pygments_lexer": "ipython3",
   "version": "3.10.6"
  }
 },
 "nbformat": 4,
 "nbformat_minor": 5
}
